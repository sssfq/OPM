{
 "cells": [
  {
   "cell_type": "markdown",
   "metadata": {},
   "source": [
    "extract signal draft"
   ]
  },
  {
   "cell_type": "code",
   "execution_count": 26,
   "metadata": {},
   "outputs": [],
   "source": [
    "#import numpy as np\n",
    "import h5py\n",
    "\n",
    "#def extract_data():\n",
    "#    with h5py.File('D:/OneDrive/Postgraduate/Optical performance monitoring (OPM)/proj/Rx_Nrec10_run1.mat','r') as f:\n",
    "#        data = f[]\n",
    "\n",
    "filename = 'D:/OneDrive/Postgraduate/Optical performance monitoring (OPM)/proj/Rx_Nrec10_run1.mat'\n",
    "f = h5py.File(filename,'r')"
   ]
  },
  {
   "cell_type": "code",
   "execution_count": 65,
   "metadata": {},
   "outputs": [
    {
     "name": "stdout",
     "output_type": "stream",
     "text": [
      "<KeysViewHDF5 ['Channels', 'Control_Power', 'DATA_TIME_INFO', 'DSK', 'DispSpectrum', 'Fs', 'Nacq', 'Npoints', 'P_LO', 'Prx', 'Prx_EDFA', 'change_scale']>\n"
     ]
    }
   ],
   "source": [
    "Y = f['Y'][:]\n",
    "para = f['AcqParams']\n",
    "# print(Y)\n",
    "# print(para)\n",
    "\n",
    "# Y1 = Y[:,2]\n",
    "# print(Y1)\n",
    "a = para.keys()\n",
    "print(a)\n",
    "Fs = para['Fs'][()]"
   ]
  },
  {
   "cell_type": "code",
   "execution_count": 1,
   "metadata": {},
   "outputs": [
    {
     "name": "stdout",
     "output_type": "stream",
     "text": [
      "Interactive namespace is empty.\n"
     ]
    }
   ],
   "source": [
    "whos"
   ]
  },
  {
   "cell_type": "code",
   "execution_count": 3,
   "metadata": {},
   "outputs": [
    {
     "ename": "NameError",
     "evalue": "name 'file_path' is not defined",
     "output_type": "error",
     "traceback": [
      "\u001b[1;31m---------------------------------------------------------------------------\u001b[0m",
      "\u001b[1;31mNameError\u001b[0m                                 Traceback (most recent call last)",
      "\u001b[1;32m<ipython-input-3-cd55201937c5>\u001b[0m in \u001b[0;36m<module>\u001b[1;34m\u001b[0m\n\u001b[0;32m     90\u001b[0m \u001b[1;33m\u001b[0m\u001b[0m\n\u001b[0;32m     91\u001b[0m     \u001b[0mdata_loader\u001b[0m \u001b[1;33m=\u001b[0m \u001b[0mextract_OptiSystem\u001b[0m\u001b[1;33m(\u001b[0m\u001b[0mfilepath\u001b[0m\u001b[1;33m)\u001b[0m\u001b[1;33m\u001b[0m\u001b[1;33m\u001b[0m\u001b[0m\n\u001b[1;32m---> 92\u001b[1;33m     \u001b[0ma\u001b[0m \u001b[1;33m=\u001b[0m \u001b[0mdata_loader\u001b[0m\u001b[1;33m.\u001b[0m\u001b[0msignal_channel\u001b[0m\u001b[1;33m(\u001b[0m\u001b[1;33m)\u001b[0m\u001b[1;33m\u001b[0m\u001b[1;33m\u001b[0m\u001b[0m\n\u001b[0m\u001b[0;32m     93\u001b[0m     \u001b[0mprint\u001b[0m\u001b[1;33m(\u001b[0m\u001b[0ma\u001b[0m\u001b[1;33m)\u001b[0m\u001b[1;33m\u001b[0m\u001b[1;33m\u001b[0m\u001b[0m\n\u001b[0;32m     94\u001b[0m \u001b[1;33m\u001b[0m\u001b[0m\n",
      "\u001b[1;32m<ipython-input-3-cd55201937c5>\u001b[0m in \u001b[0;36msignal_channel\u001b[1;34m(self)\u001b[0m\n\u001b[0;32m     29\u001b[0m         \u001b[0mSrc\u001b[0m \u001b[1;33m=\u001b[0m \u001b[0mnp\u001b[0m\u001b[1;33m.\u001b[0m\u001b[0msqueeze\u001b[0m\u001b[1;33m(\u001b[0m\u001b[0mnp\u001b[0m\u001b[1;33m.\u001b[0m\u001b[0marray\u001b[0m\u001b[1;33m(\u001b[0m\u001b[1;33m[\u001b[0m\u001b[0mself\u001b[0m\u001b[1;33m.\u001b[0m\u001b[0mchannel1\u001b[0m\u001b[1;33m,\u001b[0m\u001b[0mself\u001b[0m\u001b[1;33m.\u001b[0m\u001b[0mchannel2\u001b[0m\u001b[1;33m,\u001b[0m\u001b[0mself\u001b[0m\u001b[1;33m.\u001b[0m\u001b[0mchannel3\u001b[0m\u001b[1;33m,\u001b[0m\u001b[0mself\u001b[0m\u001b[1;33m.\u001b[0m\u001b[0mchannel4\u001b[0m\u001b[1;33m]\u001b[0m\u001b[1;33m)\u001b[0m\u001b[1;33m)\u001b[0m\u001b[1;33m\u001b[0m\u001b[1;33m\u001b[0m\u001b[0m\n\u001b[0;32m     30\u001b[0m         \u001b[0mSrc\u001b[0m \u001b[1;33m=\u001b[0m \u001b[0mSrc\u001b[0m\u001b[1;33m\u001b[0m\u001b[1;33m\u001b[0m\u001b[0m\n\u001b[1;32m---> 31\u001b[1;33m         \u001b[0mprint\u001b[0m\u001b[1;33m(\u001b[0m\u001b[0mfile_path\u001b[0m\u001b[1;33m)\u001b[0m\u001b[1;33m\u001b[0m\u001b[1;33m\u001b[0m\u001b[0m\n\u001b[0m\u001b[0;32m     32\u001b[0m         \u001b[1;32mreturn\u001b[0m \u001b[0mSrc\u001b[0m\u001b[1;33m\u001b[0m\u001b[1;33m\u001b[0m\u001b[0m\n\u001b[0;32m     33\u001b[0m \u001b[1;33m\u001b[0m\u001b[0m\n",
      "\u001b[1;31mNameError\u001b[0m: name 'file_path' is not defined"
     ]
    }
   ],
   "source": [
    "import h5py\n",
    "import numpy as np\n",
    "#  Optisystem simulation Dataset extraction\n",
    "\n",
    "class extract_OptiSystem(): \n",
    "    def __init__(self,file_path):\n",
    "\n",
    "        self.file = h5py.File(file_path,'r')\n",
    "\n",
    "        self.X_inph = self.file['InputPort1']['Sampled']['Signal'][:]\n",
    "        self.X_orth = self.file['InputPort2']['Sampled']['Signal'][:]\n",
    "        self.Y_inph = self.file['InputPort3']['Sampled']['Signal'][:]\n",
    "        self.Y_orth = self.file['InputPort4']['Sampled']['Signal'][:]\n",
    "\n",
    "        self.X_inph_Noise = self.file['InputPort1']['Noise']['Signal'][:]\n",
    "        self.X_orth_Noise = self.file['InputPort2']['Noise']['Signal'][:]\n",
    "        self.Y_inph_Noise = self.file['InputPort3']['Noise']['Signal'][:]\n",
    "        self.Y_orth_Noise = self.file['InputPort4']['Noise']['Signal'][:]\n",
    "\n",
    "        self.channel1 = self.X_inph #+ self.X_inph_Noise\n",
    "        self.channel2 = self.X_orth #+ self.X_orth_Noise\n",
    "        self.channel3 = self.Y_inph #+ self.Y_inph_Noise\n",
    "        self.channel4 = self.Y_orth #+ self.Y_orth_Noise\n",
    "\n",
    "        self.Params = self.file['Params'] #self.Params Group <HDF5 group \"/Params\" (7 members)>\n",
    "\n",
    "    def signal_channel(self):\n",
    "\n",
    "        Src = np.squeeze(np.array([self.channel1,self.channel2,self.channel3,self.channel4]))\n",
    "        Src = Src\n",
    "        print(file_path)\n",
    "        return Src\n",
    "    \n",
    "#     def signal_pol(self):\n",
    "\n",
    "#         X_in =  self.X_inph \n",
    "#         X_in =+ self.X_orth*1j \n",
    "#         Y_in =  self.Y_inph \n",
    "#         Y_in =+ self.Y_orth*1j\n",
    "        \n",
    "#         return X_in,Y_in\n",
    "\n",
    "#     def params(self,param_specific):\n",
    "#         # Group self.Params is defined in __init__\n",
    "\n",
    "#         def osnr():\n",
    "#             OSNR = self.Params['OSNR'][:]\n",
    "#             return OSNR\n",
    "        \n",
    "#         def rolloff():\n",
    "#             Rolloff = self.Params['Rolloff'][:]\n",
    "#             return Rolloff\n",
    "\n",
    "#         def saperbit():\n",
    "#             Saperbit = self.Params['Saperbit'][:]\n",
    "#             return Saperbit\n",
    "\n",
    "#         def sequencelength():\n",
    "#             SequenceLength = self.Params['SequenceLength'][:]\n",
    "#             return SequenceLength\n",
    "\n",
    "#         def signalpower():\n",
    "#             SignalPower = self.Params['SignalPower'][:]\n",
    "#             return SignalPower\n",
    "\n",
    "#         def symbolrate():\n",
    "#             SymbolRate = self.Params['SymbolRate'][:]\n",
    "#             return SymbolRate\n",
    "\n",
    "#         def bitrate():\n",
    "#             BitRate = self.Params['BitRate'][:]\n",
    "#             return BitRate\n",
    "        \n",
    "#         ParamsAll = np.array([osnr(),rolloff(),saperbit(),\\\n",
    "#                               sequencelength(),signalpower(),\\\n",
    "#                               symbolrate(),bitrate()])\n",
    "\n",
    "#         ParamsList = {'OSNR' : osnr(), 'Rolloff' : rolloff(), 'Saperbit' : saperbit(),\n",
    "#                       'SequenceLength' : sequencelength(), 'SignalPower' : signalpower(),\n",
    "#                       'SymbolRate': symbolrate(), 'BitRate' : bitrate(), 'All' : ParamsAll\n",
    "#                       }\n",
    "\n",
    "        \n",
    "#         Params = ParamsList.get(param_specific,'Not Available')\n",
    "\n",
    "#         return Params\n",
    "\n",
    "if __name__ == '__main__':\n",
    "    filepath = 'F:/tempo sim data/224Gbpers_28GBaud_DP-16QAM_1Saperb_18dB_2dBm_0.01-0.6/224Gbpers_28GBaud_DP-16QAM_1Saperb_18dB_2dBm_0.01_No.1.mat'\n",
    "    \n",
    "    data_loader = extract_OptiSystem(filepath)\n",
    "    a = data_loader.signal_channel()\n",
    "    print(a)\n",
    "\n",
    "#     # signal_channel() test\n",
    "#     print('signal_channel() output:')\n",
    "#     print(data_loader.signal_channel())\n",
    "\n",
    "#     # signal_pol() test\n",
    "#     print('signal_pol() output:')\n",
    "#     x , y = data_loader.signal_pol()\n",
    "#     print('x:\\n',x,'\\n y:\\n',y)\n",
    "\n",
    "#     # params() test\n",
    "#     params = data_loader.params('All')\n",
    "#     print('params() output:\\n',params)\n",
    "\n",
    "#     print('Extraction function test passes!')\n",
    "\n"
   ]
  },
  {
   "cell_type": "code",
   "execution_count": 8,
   "metadata": {},
   "outputs": [
    {
     "ename": "TypeError",
     "evalue": "invalid type promotion",
     "output_type": "error",
     "traceback": [
      "\u001b[1;31m---------------------------------------------------------------------------\u001b[0m",
      "\u001b[1;31mTypeError\u001b[0m                                 Traceback (most recent call last)",
      "\u001b[1;32m<ipython-input-8-81f4dc1cf760>\u001b[0m in \u001b[0;36m<module>\u001b[1;34m\u001b[0m\n\u001b[0;32m      6\u001b[0m \u001b[1;33m\u001b[0m\u001b[0m\n\u001b[0;32m      7\u001b[0m \u001b[1;31m# par = data_loader.Params['OSNR'][:]\u001b[0m\u001b[1;33m\u001b[0m\u001b[1;33m\u001b[0m\u001b[1;33m\u001b[0m\u001b[0m\n\u001b[1;32m----> 8\u001b[1;33m \u001b[0mprint\u001b[0m\u001b[1;33m(\u001b[0m\u001b[0mdata_loader\u001b[0m\u001b[1;33m.\u001b[0m\u001b[0msignal_channel\u001b[0m\u001b[1;33m(\u001b[0m\u001b[1;33m)\u001b[0m\u001b[1;33m)\u001b[0m\u001b[1;33m\u001b[0m\u001b[1;33m\u001b[0m\u001b[0m\n\u001b[0m",
      "\u001b[1;32m<ipython-input-4-f2af55759175>\u001b[0m in \u001b[0;36msignal_channel\u001b[1;34m(self)\u001b[0m\n\u001b[0;32m     23\u001b[0m     \u001b[1;32mdef\u001b[0m \u001b[0msignal_channel\u001b[0m\u001b[1;33m(\u001b[0m\u001b[0mself\u001b[0m\u001b[1;33m)\u001b[0m\u001b[1;33m:\u001b[0m\u001b[1;33m\u001b[0m\u001b[1;33m\u001b[0m\u001b[0m\n\u001b[0;32m     24\u001b[0m \u001b[1;33m\u001b[0m\u001b[0m\n\u001b[1;32m---> 25\u001b[1;33m         \u001b[0mself\u001b[0m\u001b[1;33m.\u001b[0m\u001b[0mchannel1\u001b[0m \u001b[1;33m=\u001b[0m \u001b[0mself\u001b[0m\u001b[1;33m.\u001b[0m\u001b[0mX_inph\u001b[0m \u001b[1;33m+\u001b[0m \u001b[0mself\u001b[0m\u001b[1;33m.\u001b[0m\u001b[0mX_inph_Noise\u001b[0m\u001b[1;33m\u001b[0m\u001b[1;33m\u001b[0m\u001b[0m\n\u001b[0m\u001b[0;32m     26\u001b[0m         \u001b[0mself\u001b[0m\u001b[1;33m.\u001b[0m\u001b[0mchannel2\u001b[0m \u001b[1;33m=\u001b[0m \u001b[0mself\u001b[0m\u001b[1;33m.\u001b[0m\u001b[0mX_orth\u001b[0m \u001b[1;33m+\u001b[0m \u001b[0mself\u001b[0m\u001b[1;33m.\u001b[0m\u001b[0mX_orth_Noise\u001b[0m\u001b[1;33m\u001b[0m\u001b[1;33m\u001b[0m\u001b[0m\n\u001b[0;32m     27\u001b[0m         \u001b[0mself\u001b[0m\u001b[1;33m.\u001b[0m\u001b[0mchannel3\u001b[0m \u001b[1;33m=\u001b[0m \u001b[0mself\u001b[0m\u001b[1;33m.\u001b[0m\u001b[0mY_inph\u001b[0m \u001b[1;33m+\u001b[0m \u001b[0mself\u001b[0m\u001b[1;33m.\u001b[0m\u001b[0mY_inph_Noise\u001b[0m\u001b[1;33m\u001b[0m\u001b[1;33m\u001b[0m\u001b[0m\n",
      "\u001b[1;31mTypeError\u001b[0m: invalid type promotion"
     ]
    }
   ],
   "source": [
    "a = np.array([1,2])\n",
    "b = np.array([3,4])\n",
    "d = np.array([5,6])\n",
    "c = np.array([a,b,d])\n",
    "osnr = e['OSNR'][:]\n",
    "\n",
    "par = data_loader.Params['OSNR'][:]\n",
    "print(data_loader.Params)\n"
   ]
  },
  {
   "cell_type": "code",
   "execution_count": 2,
   "metadata": {},
   "outputs": [
    {
     "name": "stdout",
     "output_type": "stream",
     "text": [
      "Variable             Type                  Data/Info\n",
      "----------------------------------------------------\n",
      "a                    ndarray               4x32768: 131072 elems, type `float64`, 1048576 bytes (1.0 Mb)\n",
      "data_loader          extract_OptiSystem    <__main__.extract_OptiSys<...>ct at 0x000001CF36509348>\n",
      "extract_OptiSystem   type                  <class '__main__.extract_OptiSystem'>\n",
      "filepath             str                   F:/tempo sim data/224Gbpe<...>b_18dB_2dBm_0.01_No.1.mat\n",
      "h5py                 module                <module 'h5py' from 'E:\\\\<...>ages\\\\h5py\\\\__init__.py'>\n",
      "np                   module                <module 'numpy' from 'E:\\<...>ges\\\\numpy\\\\__init__.py'>\n"
     ]
    }
   ],
   "source": [
    "whos"
   ]
  }
 ],
 "metadata": {
  "kernelspec": {
   "display_name": "opm_cnn",
   "language": "python",
   "name": "opm_cnn"
  },
  "language_info": {
   "codemirror_mode": {
    "name": "ipython",
    "version": 3
   },
   "file_extension": ".py",
   "mimetype": "text/x-python",
   "name": "python",
   "nbconvert_exporter": "python",
   "pygments_lexer": "ipython3",
   "version": "3.7.7"
  }
 },
 "nbformat": 4,
 "nbformat_minor": 4
}
