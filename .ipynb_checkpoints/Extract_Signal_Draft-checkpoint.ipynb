{
 "cells": [
  {
   "cell_type": "markdown",
   "metadata": {},
   "source": []
  },
  {
   "cell_type": "code",
   "execution_count": 26,
   "metadata": {},
   "outputs": [],
   "source": [
    "#import numpy as np\n",
    "import h5py\n",
    "\n",
    "#def extract_data():\n",
    "#    with h5py.File('D:/OneDrive/Postgraduate/Optical performance monitoring (OPM)/proj/Rx_Nrec10_run1.mat','r') as f:\n",
    "#        data = f[]\n",
    "\n",
    "filename = 'D:/OneDrive/Postgraduate/Optical performance monitoring (OPM)/proj/Rx_Nrec10_run1.mat'\n",
    "f = h5py.File(filename,'r')"
   ]
  },
  {
   "cell_type": "code",
   "execution_count": 65,
   "metadata": {},
   "outputs": [
    {
     "name": "stdout",
     "output_type": "stream",
     "text": [
      "<KeysViewHDF5 ['Channels', 'Control_Power', 'DATA_TIME_INFO', 'DSK', 'DispSpectrum', 'Fs', 'Nacq', 'Npoints', 'P_LO', 'Prx', 'Prx_EDFA', 'change_scale']>\n"
     ]
    }
   ],
   "source": [
    "Y = f['Y'][:]\n",
    "para = f['AcqParams']\n",
    "# print(Y)\n",
    "# print(para)\n",
    "\n",
    "# Y1 = Y[:,2]\n",
    "# print(Y1)\n",
    "a = para.keys()\n",
    "print(a)\n",
    "Fs = para['Fs'][()]"
   ]
  },
  {
   "cell_type": "code",
   "execution_count": 1,
   "metadata": {},
   "outputs": [
    {
     "name": "stdout",
     "output_type": "stream",
     "text": [
      "Interactive namespace is empty.\n"
     ]
    }
   ],
   "source": [
    "whos"
   ]
  },
  {
   "cell_type": "code",
   "execution_count": 1,
   "metadata": {},
   "outputs": [
    {
     "name": "stdout",
     "output_type": "stream",
     "text": [
      "Signal:\n",
      " [[188 187 187 185]\n",
      " [180 180 179 177]\n",
      " [180 180 179 177]\n",
      " ...\n",
      " [127 172 128 123]\n",
      " [101 137  99 108]\n",
      " [ 90 110 117 106]]\n",
      "Signal size is:\n",
      " (1000000, 4)\n"
     ]
    }
   ],
   "source": [
    "from extraction import extract\n",
    "a = extract.signal('C:/Users/沈方棋/Desktop/Rx_Nrec10_run1 (1).mat')"
   ]
  },
  {
   "cell_type": "code",
   "execution_count": 2,
   "metadata": {},
   "outputs": [
    {
     "name": "stdout",
     "output_type": "stream",
     "text": [
      "(array([[-0.-0.00344004j],\n",
      "       [-0.-0.00344478j],\n",
      "       [-0.-0.00416717j],\n",
      "       ...,\n",
      "       [-0.-0.00060541j],\n",
      "       [ 0.+0.00236409j],\n",
      "       [ 0.+0.00525809j]]), array([[ 0.+0.00658505j],\n",
      "       [ 0.+0.00917493j],\n",
      "       [ 0.+0.01146258j],\n",
      "       ...,\n",
      "       [-0.-0.00437833j],\n",
      "       [-0.-0.00321549j],\n",
      "       [-0.-0.00098141j]]))\n",
      "Extraction function test passes!\n"
     ]
    }
   ],
   "source": [
    "import h5py\n",
    "#  Optisystem simulation Dataset extraction\n",
    "\n",
    "class extract_OptiSystem: \n",
    "\n",
    "    def __init__(self):\n",
    "        \n",
    "        self.file = h5py.File(filepath,'r')\n",
    "        \n",
    "        self.X_inph = self.file['InputPort1']['Sampled']['Signal'][:]\n",
    "        self.X_orth = self.file['InputPort2']['Sampled']['Signal'][:]\n",
    "        self.Y_inph = self.file['InputPort3']['Sampled']['Signal'][:]\n",
    "        self.Y_orth = self.file['InputPort4']['Sampled']['Signal'][:]\n",
    "        \n",
    "    def signal_channel(self,filepath):\n",
    "\n",
    "        channel1 = self.X_inph\n",
    "        channel2 = self.X_orth\n",
    "        channel3 = self.Y_inph\n",
    "        channel4 = self.Y_orth\n",
    "\n",
    "        return channel1,channel2,channel3,channel4\n",
    "    \n",
    "    def signal_pol(self):\n",
    "    \n",
    "        X_in =  self.X_inph \n",
    "        X_in =+ self.X_orth*1j \n",
    "        Y_in =  self.Y_inph \n",
    "        Y_in =+ self.Y_orth*1j\n",
    "         \n",
    "        return X_in,Y_in\n",
    "\n",
    "#     def params(filepath):\n",
    "#         file = h5py.File(filepath,'r')\n",
    "#         params = file['AcqParams']\n",
    "#         print('Parameters:',params.keys())\n",
    "#         return params\n",
    "\n",
    "if __name__ == '__main__':\n",
    "    filepath = 'F:/tempo sim data/224Gbpers_28GBaud_DP-16QAM_1Saperb_18dB_2dBm_0.01-0.6/224Gbpers_28GBaud_DP-16QAM_1Saperb_18dB_2dBm_0.01_No.1.mat'\n",
    "    \n",
    "    data_loader = extract_OptiSystem()\n",
    "#     sig = data_loader.signal_channel(filepath)\n",
    "#     orth = data_loader.X_orth\n",
    "#     print('Signal:\\n',sig)\n",
    "#     print('Signal size is:\\n',sig.shape)\n",
    "#     print(orth)\n",
    "#     params = extract_OptiSystem.params(filepath)\n",
    "    X_in = data_loader.signal_pol()\n",
    "    print(X_in)\n",
    "    print('Extraction function test passes!')"
   ]
  },
  {
   "cell_type": "code",
   "execution_count": 6,
   "metadata": {},
   "outputs": [
    {
     "name": "stdout",
     "output_type": "stream",
     "text": [
      "Variable             Type       Data/Info\n",
      "-----------------------------------------\n",
      "extract_OptiSystem   type       <class '__main__.extract_OptiSystem'>\n",
      "filepath             str        F:/tempo sim data/224Gbpe<...>b_18dB_2dBm_0.01_No.1.mat\n",
      "h5py                 module     <module 'h5py' from 'E:\\\\<...>ages\\\\h5py\\\\__init__.py'>\n",
      "sig                  ndarray    32768x1: 32768 elems, type `float64`, 262144 bytes (256.0 kb)\n"
     ]
    }
   ],
   "source": [
    "whos"
   ]
  }
 ],
 "metadata": {
  "kernelspec": {
   "display_name": "opm_cnn",
   "language": "python",
   "name": "opm_cnn"
  },
  "language_info": {
   "codemirror_mode": {
    "name": "ipython",
    "version": 3
   },
   "file_extension": ".py",
   "mimetype": "text/x-python",
   "name": "python",
   "nbconvert_exporter": "python",
   "pygments_lexer": "ipython3",
   "version": "3.7.7"
  }
 },
 "nbformat": 4,
 "nbformat_minor": 4
}
