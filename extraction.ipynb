{
 "cells": [
  {
   "cell_type": "code",
   "execution_count": 41,
   "metadata": {},
   "outputs": [
    {
     "name": "stdout",
     "output_type": "stream",
     "text": [
      "Signal:\n",
      " [[190 185 187 191]\n",
      " [183 176 180 183]\n",
      " [183 176 180 183]\n",
      " ...\n",
      " [117 134 131  67]\n",
      " [131 144 148  81]\n",
      " [111 139 159 164]]\n",
      "Signal size is:\n",
      " (1000000, 4)\n",
      "Parameters: <KeysViewHDF5 ['Channels', 'Control_Power', 'DATA_TIME_INFO', 'DSK', 'DispSpectrum', 'Fs', 'Nacq', 'Npoints', 'P_LO', 'Prx', 'Prx_EDFA', 'change_scale']>\n",
      "Extraction function test passes!\n"
     ]
    }
   ],
   "source": [
    "import h5py\n",
    "\n",
    "def extract_signal(filepath):\n",
    "    file = h5py.File(filepath,'r')\n",
    "    sig = file['Y'][:]\n",
    "    return sig\n",
    "\n",
    "def extract_params(filepath):\n",
    "    file = h5py.File(filepath,'r')\n",
    "    return file['AcqParams']\n",
    "\n",
    "if __name__ == '__main__':\n",
    "    filepath = 'D:/OneDrive/Postgraduate/Optical performance monitoring (OPM)/proj/Rx_Nrec10_run1.mat'\n",
    "    \n",
    "    sig = extract_signal(filepath)\n",
    "    print('Signal:\\n',sig)\n",
    "    print('Signal size is:\\n',sig.shape)\n",
    "    \n",
    "    params = extract_params(filepath)\n",
    "    print('Parameters:',params.keys())\n",
    "    \n",
    "    print('Extraction function test passes!')"
   ]
  },
  {
   "cell_type": "code",
   "execution_count": null,
   "metadata": {},
   "outputs": [],
   "source": []
  }
 ],
 "metadata": {
  "kernelspec": {
   "display_name": "opm_cnn",
   "language": "python",
   "name": "opm_cnn"
  },
  "language_info": {
   "codemirror_mode": {
    "name": "ipython",
    "version": 3
   },
   "file_extension": ".py",
   "mimetype": "text/x-python",
   "name": "python",
   "nbconvert_exporter": "python",
   "pygments_lexer": "ipython3",
   "version": "3.7.7"
  }
 },
 "nbformat": 4,
 "nbformat_minor": 4
}
