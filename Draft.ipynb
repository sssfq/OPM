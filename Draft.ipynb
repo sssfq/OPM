{
 "cells": [
  {
   "cell_type": "code",
   "execution_count": 14,
   "metadata": {},
   "outputs": [
    {
     "name": "stdout",
     "output_type": "stream",
     "text": [
      "[ 0  1  2  3  4  5  6  7  8  9 10 11 12 13 14 15 16 17 18 19 20 21 22 23\n",
      " 24 25 26 27 28 29 30 31 32 33 34 35 36 37 38 39 40 41 42 43 44 45 46 47\n",
      " 48 49]\n",
      "[[ 0  1  2  3  4  5  6  7  8  9 10 11 12 13 14 15 16 17 18 19 20 21 22 23\n",
      "  24]\n",
      " [25 26 27 28 29 30 31 32 33 34 35 36 37 38 39 40 41 42 43 44 45 46 47 48\n",
      "  49]]\n",
      "[[[ 0  1  2  3  4]\n",
      "  [ 5  6  7  8  9]]\n",
      "\n",
      " [[10 11 12 13 14]\n",
      "  [15 16 17 18 19]]\n",
      "\n",
      " [[20 21 22 23 24]\n",
      "  [25 26 27 28 29]]\n",
      "\n",
      " [[30 31 32 33 34]\n",
      "  [35 36 37 38 39]]\n",
      "\n",
      " [[40 41 42 43 44]\n",
      "  [45 46 47 48 49]]]\n"
     ]
    }
   ],
   "source": [
    "import numpy as np\n",
    "\n",
    "a = np.arange(50)\n",
    "print(a)\n",
    "b = a.reshape(2,25)\n",
    "print(b)\n",
    "c = b.reshape(5,2,5)\n",
    "print(c)\n",
    "# d = b.reshape(2,5,5)\n",
    "# print(d)\n"
   ]
  },
  {
   "cell_type": "code",
   "execution_count": 4,
   "metadata": {},
   "outputs": [
    {
     "name": "stdout",
     "output_type": "stream",
     "text": [
      "[[12 13 14 15]\n",
      " [16 17 18 19]\n",
      " [20 21 22 23]]\n",
      "[[[ 0  1  2  3]\n",
      "  [12 13 14 15]]\n",
      "\n",
      " [[ 4  5  6  7]\n",
      "  [16 17 18 19]]\n",
      "\n",
      " [[ 8  9 10 11]\n",
      "  [20 21 22 23]]]\n",
      "(3, 2, 4)\n"
     ]
    }
   ],
   "source": [
    "import numpy as np\n",
    "import tensorflow as tf\n",
    "a = np.arange(24).reshape(2,3,4)\n",
    "print(a[1,:])\n",
    "b = np.rollaxis(a,1,0)\n",
    "print(b)\n",
    "print(b.shape)"
   ]
  },
  {
   "cell_type": "code",
   "execution_count": 192,
   "metadata": {},
   "outputs": [
    {
     "name": "stdout",
     "output_type": "stream",
     "text": [
      "Variable   Type        Data/Info\n",
      "--------------------------------\n",
      "a          ndarray     2x3x2: 12 elems, type `int32`, 48 bytes\n",
      "b          list        n=4\n",
      "c          ndarray     2x3x2: 12 elems, type `int32`, 48 bytes\n",
      "d          ndarray     3x10: 30 elems, type `int32`, 120 bytes\n",
      "e          ndarray     2x3x5: 30 elems, type `int32`, 120 bytes\n",
      "f          list        n=2\n",
      "g          ndarray     2x3x2: 12 elems, type `int32`, 48 bytes\n",
      "h          NoneType    None\n",
      "k          list        n=3\n",
      "np         module      <module 'numpy' from 'E:\\<...>ges\\\\numpy\\\\__init__.py'>\n"
     ]
    }
   ],
   "source": [
    "whos"
   ]
  },
  {
   "cell_type": "code",
   "execution_count": 200,
   "metadata": {},
   "outputs": [
    {
     "name": "stdout",
     "output_type": "stream",
     "text": [
      "2\n",
      "[[1, 2], [3, 4], [5, 6]]\n"
     ]
    }
   ],
   "source": [
    "a=np.array([[[1,2],[3,4],[5,6]],[[1,2],[3,4],[5,6]]])\n",
    "b = []\n",
    "# print(a)\n",
    "\n",
    "b.append(a)\n",
    "# print(b)\n",
    "a = a+1\n",
    "# print(b)\n",
    "# print(a)\n",
    "b.append(a)\n",
    "print(len(b))\n",
    "# print(b)\n",
    "b = np.array(b)\n",
    "# print(b)\n",
    "b = b.reshape(-1,3,2)\n",
    "b = b.tolist()\n",
    "# b = np.array(b)\n",
    "k = b[1]\n",
    "print(b[1])"
   ]
  },
  {
   "cell_type": "code",
   "execution_count": 205,
   "metadata": {},
   "outputs": [
    {
     "ename": "TypeError",
     "evalue": "must be real number, not list",
     "output_type": "error",
     "traceback": [
      "\u001b[1;31m---------------------------------------------------------------------------\u001b[0m",
      "\u001b[1;31mTypeError\u001b[0m                                 Traceback (most recent call last)",
      "\u001b[1;32m<ipython-input-205-0bddc5ee7742>\u001b[0m in \u001b[0;36m<module>\u001b[1;34m\u001b[0m\n\u001b[0;32m      1\u001b[0m \u001b[1;32mimport\u001b[0m \u001b[0mmath\u001b[0m\u001b[1;33m\u001b[0m\u001b[1;33m\u001b[0m\u001b[0m\n\u001b[1;32m----> 2\u001b[1;33m \u001b[0mmath\u001b[0m\u001b[1;33m.\u001b[0m\u001b[0mfloor\u001b[0m\u001b[1;33m(\u001b[0m\u001b[1;33m[\u001b[0m\u001b[1;33m[\u001b[0m\u001b[1;36m1\u001b[0m\u001b[1;33m]\u001b[0m\u001b[1;33m]\u001b[0m\u001b[1;33m)\u001b[0m\u001b[1;33m\u001b[0m\u001b[1;33m\u001b[0m\u001b[0m\n\u001b[0m",
      "\u001b[1;31mTypeError\u001b[0m: must be real number, not list"
     ]
    }
   ],
   "source": [
    "import math\n",
    "math.floor([[1]])"
   ]
  },
  {
   "cell_type": "code",
   "execution_count": 197,
   "metadata": {},
   "outputs": [
    {
     "name": "stdout",
     "output_type": "stream",
     "text": [
      "['224Gbpers_28GBaud_DP-16QAM_1Saperb_18dB_2dBm_0.01_No.1.mat', '224Gbpers_28GBaud_DP-16QAM_1Saperb_18dB_2dBm_0.01_No.2.mat']\n",
      "F:/tempo sim data/224Gbpers_28GBaud_DP-16QAM_1Saperb_18dB_2dBm_0.01-0.6/train_data/224Gbpers_28GBaud_DP-16QAM_1Saperb_18dB_2dBm_0.01_No.2.mat\n"
     ]
    }
   ],
   "source": [
    "import os\n",
    "path = 'F:/tempo sim data/224Gbpers_28GBaud_DP-16QAM_1Saperb_18dB_2dBm_0.01-0.6/train_data/'\n",
    "filelist = os.listdir(path)\n",
    "print(filelist)\n",
    "filepath = os.path.join(path,filelist[1])\n",
    "print(filepath)"
   ]
  },
  {
   "cell_type": "code",
   "execution_count": 40,
   "metadata": {},
   "outputs": [
    {
     "name": "stdout",
     "output_type": "stream",
     "text": [
      "[[[5 3 8 9 0]\n",
      "  [0 8 0 5 8]\n",
      "  [2 1 0 8 2]\n",
      "  [8 9 4 2 4]\n",
      "  [6 9 7 9 2]]\n",
      "\n",
      " [[7 3 7 5 4]\n",
      "  [3 4 2 0 8]\n",
      "  [8 9 9 4 8]\n",
      "  [1 8 6 1 4]\n",
      "  [5 6 4 0 9]]\n",
      "\n",
      " [[6 6 8 7 2]\n",
      "  [9 0 8 3 8]\n",
      "  [6 2 5 0 7]\n",
      "  [2 0 0 8 1]\n",
      "  [5 2 8 6 6]]\n",
      "\n",
      " [[6 9 8 5 2]\n",
      "  [2 6 0 5 0]\n",
      "  [9 3 6 5 3]\n",
      "  [2 7 7 0 7]\n",
      "  [7 8 9 6 0]]\n",
      "\n",
      " [[7 0 8 6 9]\n",
      "  [9 0 1 3 7]\n",
      "  [3 7 0 6 9]\n",
      "  [2 8 4 0 3]\n",
      "  [1 4 5 5 4]]]\n",
      "[[[7 3 7 5 4]\n",
      "  [3 4 2 0 8]\n",
      "  [8 9 9 4 8]\n",
      "  [1 8 6 1 4]\n",
      "  [5 6 4 0 9]]\n",
      "\n",
      " [[6 6 8 7 2]\n",
      "  [9 0 8 3 8]\n",
      "  [6 2 5 0 7]\n",
      "  [2 0 0 8 1]\n",
      "  [5 2 8 6 6]]]\n"
     ]
    }
   ],
   "source": [
    "import numpy as np\n",
    "a = np.random.randint(0,10,size=[5,5,5])\n",
    "print(a)\n",
    "b=1\n",
    "c=3\n",
    "print(a[b:c])"
   ]
  }
 ],
 "metadata": {
  "kernelspec": {
   "display_name": "opm_cnn",
   "language": "python",
   "name": "opm_cnn"
  },
  "language_info": {
   "codemirror_mode": {
    "name": "ipython",
    "version": 3
   },
   "file_extension": ".py",
   "mimetype": "text/x-python",
   "name": "python",
   "nbconvert_exporter": "python",
   "pygments_lexer": "ipython3",
   "version": "3.7.7"
  }
 },
 "nbformat": 4,
 "nbformat_minor": 4
}
